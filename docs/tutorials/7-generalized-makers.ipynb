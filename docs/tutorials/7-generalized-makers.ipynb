{
 "cells": [
  {
   "cell_type": "markdown",
   "id": "0c3db7f1-41d9-48f8-9280-a3cdd9c5a36b",
   "metadata": {},
   "source": [
    "# Writing generalized Makers\n",
    "\n",
    "Creating a generalized maker (ex. a defect maker that works for all supported DFT codes) is difficult since the general functionalities built around DFT code (VASP, CP2K, etc.) can differ significantly. Ideally you don't want to write completely independent `Makers` for each supported DFT code from scratch since much of the logic will be shared between these builders.\n",
    "\n",
    "Assuming you have a sufficiently complex workflow made up of many job, the logic in each job will usually be mostly DFT-code-independent with a few crucial steps that are specific to each code. An example will be reading the structure form an exiting directory which requires the code-specific parsing functions.\n",
    "\n",
    "Disentangling the DFT-code-dependent and independent parts can be a massive headache.\n",
    "\n",
    "As such we recommend the the following approach.\n",
    "\n",
    "1. Define a base `Maker` object that defines the DFT-code-independent `Flow` in its `make` function. Code\n",
    "\n",
    "2. The specific `job`s invoked by the common `Maker` will accept `Callable` parameters for each code-specific operation.\n",
    "\n",
    "3. The code-specific operations will be defined as abstract functions in the base `Maker`.\n",
    "\n",
    "4. Each code-specific operation should be implemented in the child `Maker` which will be concrete implementations of the base `Maker`.\n"
   ]
  },
  {
   "cell_type": "code",
   "execution_count": 1,
   "id": "40f7a478",
   "metadata": {
    "nbsphinx": "hidden",
    "tags": []
   },
   "outputs": [],
   "source": [
    "import warnings\n",
    "\n",
    "warnings.filterwarnings(\"ignore\", \"Using `tqdm.autonotebook.tqdm`\")"
   ]
  },
  {
   "cell_type": "code",
   "execution_count": 2,
   "id": "9a364f4a-90f3-4211-8903-a1154c4d04a8",
   "metadata": {},
   "outputs": [],
   "source": [
    "from jobflow import Flow, Maker, job\n",
    "from jobflow.managers.local import run_locally"
   ]
  },
  {
   "cell_type": "code",
   "execution_count": 3,
   "id": "672ff03e-1253-4421-9e89-90e6f7b4db2c",
   "metadata": {},
   "outputs": [],
   "source": [
    "class BaseMaker(Maker):\n",
    "    def code_specific_func(self, arg1):\n",
    "        raise NotImplementedError\n",
    "\n",
    "    def make(self):\n",
    "        return Flow([job1(self.code_specific_func, \"ARG1\")])\n",
    "\n",
    "\n",
    "@job\n",
    "def job1(func, arg1):\n",
    "    print(\"DO CODE INDEPENDENT STUFF\")\n",
    "    func(arg1)"
   ]
  },
  {
   "cell_type": "code",
   "execution_count": 4,
   "id": "b0126e58-a1aa-4adc-9442-5d10908dcde3",
   "metadata": {},
   "outputs": [
    {
     "name": "stdout",
     "output_type": "stream",
     "text": [
      "2023-06-08 09:57:53,829 INFO Started executing jobs locally\n",
      "2023-06-08 09:57:53,896 INFO Starting job - job1 (b6557183-838d-4c04-b1ab-356b8923016d)\n",
      "DO CODE INDEPENDENT STUFF\n",
      "DO STUFF specific to CODE 1\n",
      "2023-06-08 09:57:53,896 INFO Finished job - job1 (b6557183-838d-4c04-b1ab-356b8923016d)\n",
      "2023-06-08 09:57:53,896 INFO Finished executing jobs locally\n"
     ]
    }
   ],
   "source": [
    "class Code1Maker(BaseMaker):\n",
    "    def code_specific_func(self, arg1):\n",
    "        print(\"DO STUFF specific to CODE 1\")\n",
    "\n",
    "\n",
    "flow = Code1Maker().make()\n",
    "responses = run_locally(flow)"
   ]
  },
  {
   "cell_type": "code",
   "execution_count": 5,
   "id": "0d0eb0d2-bf17-41af-8349-dc324daca7e5",
   "metadata": {},
   "outputs": [
    {
     "name": "stdout",
     "output_type": "stream",
     "text": [
      "2023-06-08 09:57:53,900 INFO Started executing jobs locally\n",
      "2023-06-08 09:57:53,900 INFO Starting job - job1 (7d744b4f-e0ab-46f0-adb2-72371e0c5070)\n",
      "DO CODE INDEPENDENT STUFF\n",
      "DO STUFF specific to CODE 2\n",
      "2023-06-08 09:57:53,901 INFO Finished job - job1 (7d744b4f-e0ab-46f0-adb2-72371e0c5070)\n",
      "2023-06-08 09:57:53,901 INFO Finished executing jobs locally\n"
     ]
    }
   ],
   "source": [
    "class Code2Maker(BaseMaker):\n",
    "    def code_specific_func(self, arg1):\n",
    "        print(\"DO STUFF specific to CODE 2\")\n",
    "\n",
    "\n",
    "flow = Code2Maker().make()\n",
    "responses = run_locally(flow)"
   ]
  }
 ],
 "metadata": {
  "kernelspec": {
   "display_name": "atomate2",
   "language": "python",
   "name": "atomate2"
  },
  "language_info": {
   "codemirror_mode": {
    "name": "ipython",
    "version": 3
   },
   "file_extension": ".py",
   "mimetype": "text/x-python",
   "name": "python",
   "nbconvert_exporter": "python",
   "pygments_lexer": "ipython3",
   "version": "3.9.6"
  }
 },
 "nbformat": 4,
 "nbformat_minor": 5
}
