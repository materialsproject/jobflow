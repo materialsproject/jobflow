{
 "cells": [
  {
   "cell_type": "markdown",
   "id": "1b3c4fe2",
   "metadata": {},
   "source": [
    "# Creating flows in jobflow\n",
    "\n",
    "In this tutorial, you will:\n",
    "\n",
    "- Learn about the `Flow` object.\n",
    "- Set the configuration settings of a flow and its jobs.\n",
    "\n",
    "The purpose of this tutorial is to delve into the basic functionality of flows and gain a feeling for what is possible. Later tutorials will describe how to create dynamic flows.\n",
    "\n",
    "## Creating job objects\n",
    "\n",
    "The building block of jobflows are `Job` objects. Jobs are delayed calls to python functions whose outputs are stored in a database. The easiest way to create a job is using the `@job` decorator. The job decorator can be applied to any function, even those with optional parameters.\n"
   ]
  },
  {
   "cell_type": "code",
   "execution_count": 1,
   "id": "0e85b3d5",
   "metadata": {
    "nbsphinx": "hidden",
    "tags": []
   },
   "outputs": [],
   "source": [
    "import warnings\n",
    "\n",
    "warnings.filterwarnings(\"ignore\", \"Using `tqdm.autonotebook.tqdm`\")"
   ]
  },
  {
   "cell_type": "markdown",
   "id": "4463657f",
   "metadata": {},
   "source": [
    "We will start by defining two simple jobs that we will stitch together into a flow.\n"
   ]
  },
  {
   "cell_type": "code",
   "execution_count": 2,
   "id": "52dd89f0",
   "metadata": {},
   "outputs": [],
   "source": [
    "from jobflow import job\n",
    "\n",
    "\n",
    "@job\n",
    "def add(a, b, c=2):\n",
    "    return a + b + c\n",
    "\n",
    "\n",
    "@job\n",
    "def mult(a, b):\n",
    "    return a * b"
   ]
  },
  {
   "cell_type": "markdown",
   "id": "b6c9a03f",
   "metadata": {},
   "source": [
    "To combine these two `Job` objects into a single workflow, we can take advantage of the `Flow` constructor in Jobflow.\n"
   ]
  },
  {
   "cell_type": "code",
   "execution_count": 3,
   "id": "98af49d6",
   "metadata": {},
   "outputs": [],
   "source": [
    "from jobflow import Flow\n",
    "\n",
    "job1 = add(1, 2)\n",
    "job2 = mult(job1.output, 3)\n",
    "\n",
    "flow = Flow([job1, job2], name=\"my-flow\")"
   ]
  },
  {
   "cell_type": "markdown",
   "id": "646762e1",
   "metadata": {},
   "source": [
    "Because `job2` depends on the output of `job1`, it will only run if/when `job1` completes successfully. Jobflow will automatically determine the connectivity of the jobs and run them accordingly. Here, we have also given the flow an optional name, which can be useful for tracking purposes.\n"
   ]
  },
  {
   "cell_type": "markdown",
   "id": "a51f7289",
   "metadata": {},
   "source": [
    "## Setting Metadata\n"
   ]
  },
  {
   "cell_type": "markdown",
   "id": "349dd493",
   "metadata": {},
   "source": [
    "It can often be useful to attach metadata to jobs and flows before they are run, particularly for querying purposes later on. This can be done with the `update_metadata` function. The `name` can also be updated on-the-fly.\n"
   ]
  },
  {
   "cell_type": "code",
   "execution_count": 4,
   "id": "45bd822a",
   "metadata": {},
   "outputs": [],
   "source": [
    "job1 = add(1, 2)\n",
    "\n",
    "job1.name = \"test\"\n",
    "job1.update_metadata({\"tags\": [\"test\"]})"
   ]
  },
  {
   "cell_type": "markdown",
   "id": "41ea9899",
   "metadata": {},
   "source": [
    "## Running Flows\n",
    "\n",
    "We can run the flow locally by calling the `run_locally` function.\n"
   ]
  },
  {
   "cell_type": "code",
   "execution_count": 5,
   "id": "be0616ce",
   "metadata": {},
   "outputs": [
    {
     "name": "stdout",
     "output_type": "stream",
     "text": [
      "2023-06-08 09:58:12,065 INFO Started executing jobs locally\n",
      "2023-06-08 09:58:12,168 INFO Starting job - add (4e9bc8e2-0828-4376-bdc9-dda91ba26d38)\n",
      "2023-06-08 09:58:12,168 INFO Finished job - add (4e9bc8e2-0828-4376-bdc9-dda91ba26d38)\n",
      "2023-06-08 09:58:12,169 INFO Starting job - mult (d464616a-7253-41bb-862e-c999393ccc81)\n",
      "2023-06-08 09:58:12,169 INFO Finished job - mult (d464616a-7253-41bb-862e-c999393ccc81)\n",
      "2023-06-08 09:58:12,169 INFO Finished executing jobs locally\n"
     ]
    }
   ],
   "source": [
    "from jobflow.managers.local import run_locally\n",
    "\n",
    "responses = run_locally(flow)"
   ]
  },
  {
   "cell_type": "markdown",
   "id": "f4b08b78",
   "metadata": {},
   "source": [
    "The output contains a UUID for each `job` in the flow along with the outputs for each job.\n"
   ]
  },
  {
   "cell_type": "code",
   "execution_count": 6,
   "id": "b2198205",
   "metadata": {},
   "outputs": [
    {
     "name": "stdout",
     "output_type": "stream",
     "text": [
      "4e9bc8e2-0828-4376-bdc9-dda91ba26d38 -> {1: Response(output=5, detour=None, addition=None, replace=None, stored_data=None, stop_children=False, stop_jobflow=False)}\n",
      "d464616a-7253-41bb-862e-c999393ccc81 -> {1: Response(output=15, detour=None, addition=None, replace=None, stored_data=None, stop_children=False, stop_jobflow=False)}\n"
     ]
    }
   ],
   "source": [
    "for uuid, response in responses.items():\n",
    "    print(f\"{uuid} -> {response}\")"
   ]
  },
  {
   "cell_type": "markdown",
   "id": "7c2e82bb",
   "metadata": {},
   "source": [
    "The UUID can also be obtained from the `job` object directly, which is useful for indexing the output.\n"
   ]
  },
  {
   "cell_type": "code",
   "execution_count": 7,
   "id": "b25ea925",
   "metadata": {},
   "outputs": [
    {
     "name": "stdout",
     "output_type": "stream",
     "text": [
      "15\n"
     ]
    }
   ],
   "source": [
    "print(responses[job2.uuid][1].output)"
   ]
  }
 ],
 "metadata": {
  "kernelspec": {
   "display_name": "atomate2",
   "language": "python",
   "name": "atomate2"
  },
  "language_info": {
   "codemirror_mode": {
    "name": "ipython",
    "version": 3
   },
   "file_extension": ".py",
   "mimetype": "text/x-python",
   "name": "python",
   "nbconvert_exporter": "python",
   "pygments_lexer": "ipython3",
   "version": "3.9.6"
  }
 },
 "nbformat": 4,
 "nbformat_minor": 5
}
